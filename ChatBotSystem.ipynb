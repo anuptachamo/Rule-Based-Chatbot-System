{
 "cells": [
  {
   "cell_type": "markdown",
   "id": "3b8e8af6",
   "metadata": {},
   "source": [
    "# (Rule base chatbot system of ISMT college )"
   ]
  },
  {
   "cell_type": "code",
   "execution_count": 1,
   "id": "7c971b80",
   "metadata": {},
   "outputs": [
    {
     "name": "stdout",
     "output_type": "stream",
     "text": [
      "Requirement already satisfied: nltk in c:\\users\\anoop\\anaconda3\\lib\\site-packages (3.7)\n",
      "Requirement already satisfied: regex>=2021.8.3 in c:\\users\\anoop\\anaconda3\\lib\\site-packages (from nltk) (2022.7.9)\n",
      "Requirement already satisfied: click in c:\\users\\anoop\\anaconda3\\lib\\site-packages (from nltk) (8.0.4)\n",
      "Requirement already satisfied: tqdm in c:\\users\\anoop\\anaconda3\\lib\\site-packages (from nltk) (4.64.1)\n",
      "Requirement already satisfied: joblib in c:\\users\\anoop\\anaconda3\\lib\\site-packages (from nltk) (1.1.0)\n",
      "Requirement already satisfied: colorama in c:\\users\\anoop\\anaconda3\\lib\\site-packages (from click->nltk) (0.4.5)\n"
     ]
    }
   ],
   "source": [
    "!pip install nltk"
   ]
  },
  {
   "cell_type": "code",
   "execution_count": 2,
   "id": "dce2380c",
   "metadata": {},
   "outputs": [],
   "source": [
    "import nltk"
   ]
  },
  {
   "cell_type": "code",
   "execution_count": 3,
   "id": "0cc47170",
   "metadata": {},
   "outputs": [
    {
     "name": "stdout",
     "output_type": "stream",
     "text": [
      "showing info https://raw.githubusercontent.com/nltk/nltk_data/gh-pages/index.xml\n"
     ]
    },
    {
     "data": {
      "text/plain": [
       "True"
      ]
     },
     "execution_count": 3,
     "metadata": {},
     "output_type": "execute_result"
    }
   ],
   "source": [
    "nltk.download()"
   ]
  },
  {
   "cell_type": "code",
   "execution_count": 4,
   "id": "56c46a10",
   "metadata": {},
   "outputs": [
    {
     "name": "stdout",
     "output_type": "stream",
     "text": [
      "Requirement already satisfied: numpy in c:\\users\\anoop\\anaconda3\\lib\\site-packages (1.21.5)\n"
     ]
    }
   ],
   "source": [
    "!pip install numpy"
   ]
  },
  {
   "cell_type": "code",
   "execution_count": 5,
   "id": "604b3378",
   "metadata": {},
   "outputs": [
    {
     "name": "stdout",
     "output_type": "stream",
     "text": [
      "Requirement already satisfied: tensorflow in c:\\users\\anoop\\anaconda3\\lib\\site-packages (2.11.0)\n",
      "Requirement already satisfied: tensorflow-intel==2.11.0 in c:\\users\\anoop\\anaconda3\\lib\\site-packages (from tensorflow) (2.11.0)\n",
      "Requirement already satisfied: tensorflow-io-gcs-filesystem>=0.23.1 in c:\\users\\anoop\\anaconda3\\lib\\site-packages (from tensorflow-intel==2.11.0->tensorflow) (0.29.0)\n",
      "Requirement already satisfied: libclang>=13.0.0 in c:\\users\\anoop\\anaconda3\\lib\\site-packages (from tensorflow-intel==2.11.0->tensorflow) (14.0.6)\n",
      "Requirement already satisfied: keras<2.12,>=2.11.0 in c:\\users\\anoop\\anaconda3\\lib\\site-packages (from tensorflow-intel==2.11.0->tensorflow) (2.11.0)\n",
      "Requirement already satisfied: tensorboard<2.12,>=2.11 in c:\\users\\anoop\\anaconda3\\lib\\site-packages (from tensorflow-intel==2.11.0->tensorflow) (2.11.0)\n",
      "Requirement already satisfied: opt-einsum>=2.3.2 in c:\\users\\anoop\\anaconda3\\lib\\site-packages (from tensorflow-intel==2.11.0->tensorflow) (3.3.0)\n",
      "Requirement already satisfied: six>=1.12.0 in c:\\users\\anoop\\anaconda3\\lib\\site-packages (from tensorflow-intel==2.11.0->tensorflow) (1.16.0)\n",
      "Requirement already satisfied: setuptools in c:\\users\\anoop\\anaconda3\\lib\\site-packages (from tensorflow-intel==2.11.0->tensorflow) (63.4.1)\n",
      "Requirement already satisfied: packaging in c:\\users\\anoop\\anaconda3\\lib\\site-packages (from tensorflow-intel==2.11.0->tensorflow) (21.3)\n",
      "Requirement already satisfied: google-pasta>=0.1.1 in c:\\users\\anoop\\anaconda3\\lib\\site-packages (from tensorflow-intel==2.11.0->tensorflow) (0.2.0)\n",
      "Requirement already satisfied: grpcio<2.0,>=1.24.3 in c:\\users\\anoop\\anaconda3\\lib\\site-packages (from tensorflow-intel==2.11.0->tensorflow) (1.51.1)\n",
      "Requirement already satisfied: wrapt>=1.11.0 in c:\\users\\anoop\\anaconda3\\lib\\site-packages (from tensorflow-intel==2.11.0->tensorflow) (1.14.1)\n",
      "Requirement already satisfied: flatbuffers>=2.0 in c:\\users\\anoop\\anaconda3\\lib\\site-packages (from tensorflow-intel==2.11.0->tensorflow) (22.12.6)\n",
      "Requirement already satisfied: numpy>=1.20 in c:\\users\\anoop\\anaconda3\\lib\\site-packages (from tensorflow-intel==2.11.0->tensorflow) (1.21.5)\n",
      "Requirement already satisfied: astunparse>=1.6.0 in c:\\users\\anoop\\anaconda3\\lib\\site-packages (from tensorflow-intel==2.11.0->tensorflow) (1.6.3)\n",
      "Requirement already satisfied: termcolor>=1.1.0 in c:\\users\\anoop\\anaconda3\\lib\\site-packages (from tensorflow-intel==2.11.0->tensorflow) (2.1.1)\n",
      "Requirement already satisfied: gast<=0.4.0,>=0.2.1 in c:\\users\\anoop\\anaconda3\\lib\\site-packages (from tensorflow-intel==2.11.0->tensorflow) (0.4.0)\n",
      "Requirement already satisfied: absl-py>=1.0.0 in c:\\users\\anoop\\anaconda3\\lib\\site-packages (from tensorflow-intel==2.11.0->tensorflow) (1.3.0)\n",
      "Requirement already satisfied: protobuf<3.20,>=3.9.2 in c:\\users\\anoop\\anaconda3\\lib\\site-packages (from tensorflow-intel==2.11.0->tensorflow) (3.19.6)\n",
      "Requirement already satisfied: h5py>=2.9.0 in c:\\users\\anoop\\anaconda3\\lib\\site-packages (from tensorflow-intel==2.11.0->tensorflow) (3.7.0)\n",
      "Requirement already satisfied: tensorflow-estimator<2.12,>=2.11.0 in c:\\users\\anoop\\anaconda3\\lib\\site-packages (from tensorflow-intel==2.11.0->tensorflow) (2.11.0)\n",
      "Requirement already satisfied: typing-extensions>=3.6.6 in c:\\users\\anoop\\anaconda3\\lib\\site-packages (from tensorflow-intel==2.11.0->tensorflow) (4.3.0)\n",
      "Requirement already satisfied: wheel<1.0,>=0.23.0 in c:\\users\\anoop\\anaconda3\\lib\\site-packages (from astunparse>=1.6.0->tensorflow-intel==2.11.0->tensorflow) (0.37.1)\n",
      "Requirement already satisfied: werkzeug>=1.0.1 in c:\\users\\anoop\\anaconda3\\lib\\site-packages (from tensorboard<2.12,>=2.11->tensorflow-intel==2.11.0->tensorflow) (2.0.3)\n",
      "Requirement already satisfied: tensorboard-data-server<0.7.0,>=0.6.0 in c:\\users\\anoop\\anaconda3\\lib\\site-packages (from tensorboard<2.12,>=2.11->tensorflow-intel==2.11.0->tensorflow) (0.6.1)\n",
      "Requirement already satisfied: markdown>=2.6.8 in c:\\users\\anoop\\anaconda3\\lib\\site-packages (from tensorboard<2.12,>=2.11->tensorflow-intel==2.11.0->tensorflow) (3.3.4)\n",
      "Requirement already satisfied: requests<3,>=2.21.0 in c:\\users\\anoop\\anaconda3\\lib\\site-packages (from tensorboard<2.12,>=2.11->tensorflow-intel==2.11.0->tensorflow) (2.28.1)\n",
      "Requirement already satisfied: tensorboard-plugin-wit>=1.6.0 in c:\\users\\anoop\\anaconda3\\lib\\site-packages (from tensorboard<2.12,>=2.11->tensorflow-intel==2.11.0->tensorflow) (1.8.1)\n",
      "Requirement already satisfied: google-auth-oauthlib<0.5,>=0.4.1 in c:\\users\\anoop\\anaconda3\\lib\\site-packages (from tensorboard<2.12,>=2.11->tensorflow-intel==2.11.0->tensorflow) (0.4.6)\n",
      "Requirement already satisfied: google-auth<3,>=1.6.3 in c:\\users\\anoop\\anaconda3\\lib\\site-packages (from tensorboard<2.12,>=2.11->tensorflow-intel==2.11.0->tensorflow) (2.15.0)\n",
      "Requirement already satisfied: pyparsing!=3.0.5,>=2.0.2 in c:\\users\\anoop\\anaconda3\\lib\\site-packages (from packaging->tensorflow-intel==2.11.0->tensorflow) (3.0.9)\n",
      "Requirement already satisfied: cachetools<6.0,>=2.0.0 in c:\\users\\anoop\\anaconda3\\lib\\site-packages (from google-auth<3,>=1.6.3->tensorboard<2.12,>=2.11->tensorflow-intel==2.11.0->tensorflow) (5.2.0)\n",
      "Requirement already satisfied: pyasn1-modules>=0.2.1 in c:\\users\\anoop\\anaconda3\\lib\\site-packages (from google-auth<3,>=1.6.3->tensorboard<2.12,>=2.11->tensorflow-intel==2.11.0->tensorflow) (0.2.8)\n",
      "Requirement already satisfied: rsa<5,>=3.1.4 in c:\\users\\anoop\\anaconda3\\lib\\site-packages (from google-auth<3,>=1.6.3->tensorboard<2.12,>=2.11->tensorflow-intel==2.11.0->tensorflow) (4.9)\n",
      "Requirement already satisfied: requests-oauthlib>=0.7.0 in c:\\users\\anoop\\anaconda3\\lib\\site-packages (from google-auth-oauthlib<0.5,>=0.4.1->tensorboard<2.12,>=2.11->tensorflow-intel==2.11.0->tensorflow) (1.3.1)\n",
      "Requirement already satisfied: idna<4,>=2.5 in c:\\users\\anoop\\anaconda3\\lib\\site-packages (from requests<3,>=2.21.0->tensorboard<2.12,>=2.11->tensorflow-intel==2.11.0->tensorflow) (3.3)\n",
      "Requirement already satisfied: charset-normalizer<3,>=2 in c:\\users\\anoop\\anaconda3\\lib\\site-packages (from requests<3,>=2.21.0->tensorboard<2.12,>=2.11->tensorflow-intel==2.11.0->tensorflow) (2.0.4)\n",
      "Requirement already satisfied: certifi>=2017.4.17 in c:\\users\\anoop\\anaconda3\\lib\\site-packages (from requests<3,>=2.21.0->tensorboard<2.12,>=2.11->tensorflow-intel==2.11.0->tensorflow) (2022.9.14)\n",
      "Requirement already satisfied: urllib3<1.27,>=1.21.1 in c:\\users\\anoop\\anaconda3\\lib\\site-packages (from requests<3,>=2.21.0->tensorboard<2.12,>=2.11->tensorflow-intel==2.11.0->tensorflow) (1.26.11)\n",
      "Requirement already satisfied: pyasn1<0.5.0,>=0.4.6 in c:\\users\\anoop\\anaconda3\\lib\\site-packages (from pyasn1-modules>=0.2.1->google-auth<3,>=1.6.3->tensorboard<2.12,>=2.11->tensorflow-intel==2.11.0->tensorflow) (0.4.8)\n",
      "Requirement already satisfied: oauthlib>=3.0.0 in c:\\users\\anoop\\anaconda3\\lib\\site-packages (from requests-oauthlib>=0.7.0->google-auth-oauthlib<0.5,>=0.4.1->tensorboard<2.12,>=2.11->tensorflow-intel==2.11.0->tensorflow) (3.2.2)\n"
     ]
    }
   ],
   "source": [
    "!pip install tensorflow"
   ]
  },
  {
   "cell_type": "markdown",
   "id": "1dff0121",
   "metadata": {},
   "source": [
    "importing libraries"
   ]
  },
  {
   "cell_type": "code",
   "execution_count": 1,
   "id": "3cf7fca1",
   "metadata": {},
   "outputs": [],
   "source": [
    "import random\n",
    "import json\n",
    "import pickle\n",
    "import numpy as np\n",
    "\n",
    "import nltk\n",
    "from nltk.stem import WordNetLemmatizer\n",
    "\n",
    "from tensorflow.keras.models import load_model"
   ]
  },
  {
   "cell_type": "code",
   "execution_count": null,
   "id": "6466d2b6",
   "metadata": {},
   "outputs": [
    {
     "name": "stdout",
     "output_type": "stream",
     "text": [
      "|=====================Welcome to Chatbot System! =====================|\n",
      "|============================== Feel Free ============================|\n",
      "|================================== To ===============================|\n",
      "|=============== Ask your any query about our chatbots ===============|\n",
      "| You: hey\n",
      "1/1 [==============================] - 0s 305ms/step\n",
      "| Bot: Hey!\n",
      "| You: who are you?\n",
      "1/1 [==============================] - 0s 38ms/step\n",
      "| Bot: I'm Ribot your virtual assistant\n",
      "| You: how many courses are there in this college?\n",
      "1/1 [==============================] - 0s 44ms/step\n",
      "| Bot: ISMT College has been in direct partnership with Sunderland University, \n",
      "UK to provide enviable higher education in IT and Business to students in Kathmandu.\n",
      "For Bachelors Degree in Information Technology we have been offering the specialization in BSc (Hons) Computing.\n",
      "For Bachelors in Business Administration we have been offering the followings:\n",
      "\n",
      "1. BBA (Marketing) with International Business \n",
      "\n",
      "2. BBA (Accounting & Finance) with International Business\n",
      "\n",
      "3. BBA (International Business)\n",
      "| You: how long will it take to complete Bcs.IT course?\n",
      "1/1 [==============================] - 0s 41ms/step\n",
      "| Bot: Our college offers 3 year long Bcs.IT course and 3 year longcourse.\n",
      "| You: what is the location of the college?\n",
      "1/1 [==============================] - 0s 56ms/step\n",
      "| Bot: ISMT College is located in Tinkune, Kathmandu near Kantipur office.\n",
      "| You: how many semesters are there in a year?\n",
      "1/1 [==============================] - 0s 40ms/step\n",
      "| Bot: There are two semesters in a year. and last semester is trimester.\n",
      "| You: how long will be a single semester?\n",
      "1/1 [==============================] - 0s 48ms/step\n",
      "| Bot: The single semester will be around 3 months.\n",
      "| You: what are the student requirements for admission?\n",
      "1/1 [==============================] - 0s 39ms/step\n",
      "| Bot: Academic Level\n",
      "NEB +2 overall aggregate of 2.2 CGPA (55%) or above with each subject (theory and practical) grade D+ or above, and SEE Mathematics score of C+ ( 50%) or above.\n",
      "For A-Levels, a minimum of 3.5 credits and atleast a grade of D and above.\n",
      "\n",
      "English Proficiency\n",
      "English NEB XII Marks greater or equals to 60% or 2.4 GPA\n",
      "For Level 4 or Year 1 BIT\n",
      "Pass in General Paper or English Language or IELTS 5.5 or PTE 47/ Meeting UCAS Tariff points of 80.\n",
      "For Level 4 or Year 1 BBA\n",
      "Pass in General Paper or English Language or IELTS 5.5 or PTE 47/ Meeting UCAS Tariff points of 96.\n",
      "| You: how many classes will be there in a day?\n",
      "1/1 [==============================] - 0s 43ms/step\n",
      "| Bot: There may be four classes per day. Each class will be of 1 hour.\n",
      "| You: is the teaching pattern different from other college?\n",
      "1/1 [==============================] - 0s 43ms/step\n",
      "| Bot: Our college has different teaching patterns than other colleges of Nepal. We adopt a British teaching methodology, following the LTW techniques which stands for Lecture, Tutorial and Workshop.\n",
      "You can provide us with your contact details and our counselors shall reach out to you and provide you with further details.\n",
      "| You: what is the exam pattern?\n",
      "1/1 [==============================] - 0s 46ms/step\n",
      "| Bot: There are assignments which carry more weight than your written exams. The assignments have deadlines which you should not exceed if you want to get better marks.\n",
      "| You: what are your hours?\n",
      "1/1 [==============================] - 0s 48ms/step\n",
      "| Bot: You can message us here at any hours. But our college premises will be open from 7:00 am to 5:00 pm only.\n",
      "| You: what is the fee structure?\n",
      "1/1 [==============================] - 0s 47ms/step\n",
      "| Bot: Course Bcs.IT\n",
      "Admission fee=RS 96,000\n",
      "Year 1\n",
      "University and Exam fee= RS 100,000 Each semester fee=RS 69,000 Total fee= RS 334,000\n",
      "Year 2\n",
      "University and Exam fee= RS 100,000 Each semester fee=RS 69,000 Total fee= RS 238,000\n",
      "Year 3\n",
      "University and Exam fee= RS 100,000 Each semester fee=RS 69,000 Total fee= RS 238,000\n",
      "GrandTotal fee= RS 810,000\n",
      "\n",
      "Course BBA\n",
      "Admission fee=RS 96,000\n",
      "Year 1\n",
      "University and Exam fee= RS 100,000 Each semester fee=RS 52,000 Total fee= RS 300,000\n",
      "Year 2\n",
      "University and Exam fee= RS 100,000 Each semester fee=RS 52,000 Total fee= RS 204,000\n",
      "Year 3\n",
      "University and Exam fee= RS 100,000 Each semester fee=RS 52,000 Total fee= RS 204,000\n",
      "Year 4\n",
      "University and Exam fee= RS 50,000 Semester fee=RS 52,000 Total fee= RS 102,000\n",
      "GrandTotal fee= RS 810,000\n",
      "| You: jajbvajbja ajfhajfakfkafj\n",
      "1/1 [==============================] - 0s 44ms/step\n",
      "| Bot: Sorry, can't understand you\n",
      "| You: see you later\n",
      "1/1 [==============================] - 0s 45ms/step\n",
      "| Bot: Goodbye\n",
      "| You: Awesome thanks\n",
      "1/1 [==============================] - 0s 43ms/step\n",
      "| Bot: Happy to help!\n",
      "| You: Bye \n",
      "1/1 [==============================] - 0s 51ms/step\n",
      "| Bot: Sorry, can't understand you\n",
      "| You: bye\n",
      "1/1 [==============================] - 0s 52ms/step\n",
      "| Bot: Goodbye\n",
      "|===================== The Program End here! =====================|\n"
     ]
    }
   ],
   "source": [
    "# provides semantic relationships between its words. It is one of the earliest and most commonly used lemmatizer technique.\n",
    "lemmatizer = WordNetLemmatizer()\n",
    "\n",
    "# intents.json, words.pkl, classes and chatbotmodel.h5 are file created for rule based chatbot\n",
    "intents = json.loads(open('intents.json').read())\n",
    "\n",
    "# pickle.load->reads the pickled byte stream of one or more python objects from a file object\n",
    "words = pickle.load(open('words.pkl', 'rb')) \n",
    "classes = pickle.load(open('classes.pkl', 'rb'))\n",
    "\n",
    "\n",
    "model = load_model('chatbotmodel.h5')\n",
    "\n",
    "#define a model\n",
    "def clean_up_sentence(sentence):\n",
    "    sentence_words = nltk.word_tokenize(sentence)\n",
    "    sentence_words = [lemmatizer.lemmatize(word)  for word in sentence_words]\n",
    "    return sentence_words\n",
    "\n",
    "def bag_of_words(sentence):\n",
    "    sentence_words= clean_up_sentence(sentence)\n",
    "    bag = [0] * len(words)\n",
    "    for w in sentence_words:\n",
    "        for i, word in enumerate(words):\n",
    "            if word == w:\n",
    "                bag[i] = 1\n",
    "\n",
    "    return np.array(bag)\n",
    "\n",
    "def predict_class(sentence):\n",
    "    bow = bag_of_words(sentence)\n",
    "    res = model.predict(np.array([bow]))[0]\n",
    "    ERROR_THRESHOLD = 0.25\n",
    "    results = [[i,r] for i, r in enumerate(res) if r > ERROR_THRESHOLD]\n",
    "\n",
    "    results.sort(key=lambda  x:x[1], reverse=True)\n",
    "    return_list = []\n",
    "    for r in results:\n",
    "        return_list.append({'intent': classes[r[0]], 'probability': str(r[1])})\n",
    "    return return_list\n",
    "\n",
    "\n",
    "def get_response(intents_list,intents_json):\n",
    "    tag= intents_list[0]['intent']\n",
    "    list_of_intents =intents_json['intents']\n",
    "    for i in list_of_intents:\n",
    "        if i['tag'] == tag:\n",
    "            result = random.choice(i['responses'])\n",
    "            break\n",
    "    return result\n",
    "\n",
    "print(\"|=====================Welcome to Chatbot System! =====================|\")\n",
    "print(\"|============================== Feel Free ============================|\")\n",
    "print(\"|================================== To ===============================|\")\n",
    "print(\"|=============== Ask your any query about our chatbots ===============|\")\n",
    "while True:\n",
    "    message = input(\"| You: \")\n",
    "    if message == \"bye\" or message == \"Goodbye\":\n",
    "        ints = predict_class(message)\n",
    "        res = get_response(ints, intents)\n",
    "        print(\"| Bot:\", res)\n",
    "        print(\"|===================== The Program End here! =====================|\")\n",
    "        exit()\n",
    "        #If you input bye or Goodbye message, the chatbot program will end. \n",
    "\n",
    "    else:\n",
    "        ints = predict_class(message)\n",
    "        res = get_response(ints, intents)\n",
    "        print(\"| Bot:\", res)"
   ]
  },
  {
   "cell_type": "code",
   "execution_count": null,
   "id": "dde65134",
   "metadata": {},
   "outputs": [],
   "source": []
  }
 ],
 "metadata": {
  "kernelspec": {
   "display_name": "Python 3 (ipykernel)",
   "language": "python",
   "name": "python3"
  },
  "language_info": {
   "codemirror_mode": {
    "name": "ipython",
    "version": 3
   },
   "file_extension": ".py",
   "mimetype": "text/x-python",
   "name": "python",
   "nbconvert_exporter": "python",
   "pygments_lexer": "ipython3",
   "version": "3.9.13"
  }
 },
 "nbformat": 4,
 "nbformat_minor": 5
}
